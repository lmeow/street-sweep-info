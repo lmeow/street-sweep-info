{
 "cells": [
  {
   "cell_type": "markdown",
   "metadata": {},
   "source": [
    "<h1>Requests module</h1>\n",
    "<br/>\n",
    "A standard for making HTTP different kinds of requests in Python\n",
    "<br/>\n",
    "<font color=\"orange\">_________________________________________________________________________________________</font>\n",
    "<br/><br/>\n"
   ]
  },
  {
   "cell_type": "markdown",
   "metadata": {},
   "source": [
    "<ul> <li>Use API and databases to get data </li></ul>"
   ]
  },
  {
   "cell_type": "code",
   "execution_count": 1,
   "metadata": {},
   "outputs": [],
   "source": [
    "import requests"
   ]
  },
  {
   "cell_type": "code",
   "execution_count": 2,
   "metadata": {
    "scrolled": true
   },
   "outputs": [
    {
     "name": "stdout",
     "output_type": "stream",
     "text": [
      "Site is up!\n"
     ]
    }
   ],
   "source": [
    "# r = requests.get('https://exoplanetarchive.ipac.caltech.edu/docs/counts_detailZZZZ.json')\n",
    "r = requests.get('https://exoplanetarchive.ipac.caltech.edu/docs/counts_detail.json')\n",
    "\n",
    "print('Site is up!' if r.status_code == 200 else 'Not what\\'s expected.')"
   ]
  },
  {
   "cell_type": "markdown",
   "metadata": {},
   "source": [
    "<ul> <li>Built-in JSON parser  </li></ul>"
   ]
  },
  {
   "cell_type": "code",
   "execution_count": null,
   "metadata": {
    "scrolled": true
   },
   "outputs": [],
   "source": [
    "json_object = r.json()\n",
    "# print(json_object)\n",
    "\n",
    "exoplanets = json_object['exoplanetArchive']['exoplanets']['total']\n",
    "# exoplanets = json_object['exoplanetArchive']['exoplanets']['planetradius']\n",
    "\n",
    "# print(exoplanets)"
   ]
  },
  {
   "cell_type": "code",
   "execution_count": 17,
   "metadata": {},
   "outputs": [],
   "source": [
    "exoplanets = json_object['exoplanetArchive']['exoplanets']['total']\n",
    "\n",
    "# print('The amount of exoplanets discovered is {}.'.format(exoplanets))"
   ]
  },
  {
   "cell_type": "markdown",
   "metadata": {},
   "source": [
    "<ul> <li>Login authorization</li></ul>"
   ]
  },
  {
   "cell_type": "code",
   "execution_count": 61,
   "metadata": {},
   "outputs": [],
   "source": [
    "r = requests.get('some_url', auth=('usr', 'psswrd'))\n",
    "print(r.json())\n"
   ]
  },
  {
   "cell_type": "markdown",
   "metadata": {},
   "source": [
    "<ul> <li> <b> Street Sweep info </b> </li></ul>"
   ]
  },
  {
   "cell_type": "code",
   "execution_count": 19,
   "metadata": {},
   "outputs": [
    {
     "name": "stdout",
     "output_type": "stream",
     "text": [
      "200\n"
     ]
    }
   ],
   "source": [
    "URL = 'https://data.sfgov.org/resource/u2ac-gv9v.json?$limit=40000'\n",
    "r = requests.get(URL)\n",
    "print(r.status_code)\n",
    "json_object = r.json()\n",
    "# print(json_object)"
   ]
  },
  {
   "cell_type": "code",
   "execution_count": null,
   "metadata": {},
   "outputs": [],
   "source": [
    "import geocoder\n",
    "import requests\n",
    "import datetime\n",
    "import calendar\n",
    "from shapely.geometry import LineString\n",
    "from shapely.geometry import Polygon\n",
    "from geopy import Nominatim\n",
    "\n",
    "geolocator = Nominatim(user_agent=\"getaddress\")\n",
    "\n",
    "address = input('Enter address: ')\n",
    "location = geolocator.geocode(address)\n",
    "coord = [location.longitude, location.latitude]\n",
    "\n",
    "print (coord)\n",
    "print(location.address)\n",
    "\n",
    "#1805 Geary Blvd san francisco\n",
    "#3870 17th St san francisco"
   ]
  },
  {
   "cell_type": "code",
   "execution_count": 27,
   "metadata": {},
   "outputs": [
    {
     "name": "stdout",
     "output_type": "stream",
     "text": [
      "POLYGON ((-122.432301444444 37.76283388888891, -122.432501444444 37.7626338888889, -122.432301444444 37.7626338888889, -122.432501444444 37.76283388888891, -122.432301444444 37.76283388888891))\n"
     ]
    }
   ],
   "source": [
    "#Set distance from coordinate\n",
    "r = 0.0001\n",
    "\n",
    "\n",
    "# coord = \n",
    "og_lat = location.longitude\n",
    "og_long = location.latitude\n",
    "\n",
    "#Created new coordinates to then make a Polygon with the Shapely module\n",
    "first_coor = (og_lat + r, og_long + r)\n",
    "secon_coor = (og_lat - r, og_long - r)\n",
    "third_coor = (og_lat + r, og_long - r)\n",
    "fourt_coor = (og_lat - r, og_long + r)\n",
    "\n",
    "coord_list_tuple = [first_coor, secon_coor, third_coor, fourt_coor]\n",
    "# print(coord_list_tuple)\n",
    "\n",
    "polygon_1 = Polygon(coord_list_tuple)\n",
    "# print(polygon_1)\n",
    "\n",
    "print(polygon_1)\n"
   ]
  },
  {
   "cell_type": "code",
   "execution_count": 28,
   "metadata": {},
   "outputs": [
    {
     "name": "stdout",
     "output_type": "stream",
     "text": [
      "2019-05-06 19:21:12.668164\n",
      "Mon, May 06, 2019\n",
      "----------------------------------------\n",
      "From:  12:00 \n",
      "To:  14:00 \n",
      "Neighborhood:  Eureka Valley - Dolo \n",
      "Streetname:  17TH ST \n",
      "Weekday:  Thu\n",
      "----------\n",
      "This week!\n",
      "The sweeper will come on Thu between 12:00 and 14:00.\n",
      "--------------------------------------------------------------------------------\n",
      "From:  09:00 \n",
      "To:  11:00 \n",
      "Neighborhood:  Eureka Valley - Dolo \n",
      "Streetname:  17TH ST \n",
      "Weekday:  Mon\n",
      "----------\n",
      "This week!\n",
      "Today!\n",
      "The sweeper has already sweept today (between 09:00 and 11:00)\n",
      "--------------------------------------------------------------------------------\n"
     ]
    }
   ],
   "source": [
    "#The main code\n",
    "\n",
    "current_date_time = datetime.datetime.now()\n",
    "print(current_date_time)\n",
    "print(current_date_time.strftime(\"%a, %b %d, %Y\"))\n",
    "todays_day = current_date_time.strftime(\"%a\")\n",
    "print(\"-\"*40)\n",
    "\n",
    "for dict in json_object:\n",
    "#     count +=1\n",
    "    new_list = []\n",
    "    for coor in dict[\"geometry\"][\"coordinates\"]:\n",
    "        new_list.append(tuple(coor))\n",
    "            \n",
    "    line = LineString(new_list)\n",
    "    intersect = line.intersects(polygon_1)\n",
    "    if intersect:\n",
    "#         print(intersect, coor)\n",
    "        print('From: ', dict['fromhour'], \n",
    "      '\\nTo: ', dict['tohour'], \n",
    "      '\\nNeighborhood: ', dict['nhood'],\n",
    "      '\\nStreetname: ', dict['streetname'], \n",
    "      '\\nWeekday: ', dict['weekday'])\n",
    "        print('-'*10)\n",
    "    \n",
    "        now = datetime.datetime.now()\n",
    "        kalender = calendar.Calendar() # week starts Monday\n",
    "        #cal = Calendar(6) # week stars Sunday\n",
    "        weeks = kalender.monthdayscalendar(now.year, now.month)\n",
    "#         print(weeks)\n",
    "\n",
    "        for i in range(len(weeks)):\n",
    "            if now.day in weeks[i]:\n",
    "                week_number = (i+1)\n",
    "#                 print(week_number)\n",
    "\n",
    "        if week_number == 1:\n",
    "            week1 = 'Y'\n",
    "            if week1 == dict['week1ofmon']:\n",
    "                print(\"This week!\")\n",
    "            else:\n",
    "                print(\"Not this week\")\n",
    "\n",
    "\n",
    "        elif week_number == 2:\n",
    "            week2= 'Y'\n",
    "            if week2 == dict['week2ofmon']:\n",
    "                print(\"This week!\")\n",
    "            else:\n",
    "                print(\"Not this week\")\n",
    "\n",
    "\n",
    "        elif week_number == 3:\n",
    "            week3 = 'Y'\n",
    "            if week3 == dict['week3ofmon']:\n",
    "                print(\"This week!\")\n",
    "            else:\n",
    "                print(\"Not this week\")\n",
    "\n",
    "\n",
    "        elif week_number == 4:\n",
    "            week4 = 'Y'\n",
    "            if week4 == dict['week4ofmon']:\n",
    "                print(\"This week!\")\n",
    "            else:\n",
    "                print(\"Not this week\")\n",
    "\n",
    "\n",
    "        elif week_number == 5:\n",
    "            week5 = 'Y'\n",
    "            if week5 == dict['week5ofmon']:\n",
    "                print(\"This week!\")\n",
    "            else:\n",
    "                print(\"Not this week\")\n",
    "\n",
    "\n",
    "        if todays_day == dict['weekday']:\n",
    "            print('Today!')\n",
    "\n",
    "            \n",
    "            try: \n",
    "                current_hour = int(current_date_time.strftime(\"%H\")) + 1\n",
    "                dict_fromhour = int(dict['fromhour'].strip(':00'))\n",
    "                dict_tohour = int(dict['tohour'].strip(':00'))\n",
    "            except:\n",
    "                print('Oops!')\n",
    "\n",
    "                \n",
    "            if current_hour >= dict_fromhour and current_hour <= dict_tohour:\n",
    "                print('They are sweepin\\' right now!')\n",
    "\n",
    "            elif current_hour < dict_fromhour:\n",
    "                print('The sweeper will come at {}!'.format(dict['fromhour']))\n",
    "                \n",
    "            else:\n",
    "                print('The sweeper has already sweept today (between {} and {})'.format(dict['fromhour'], dict['tohour']))\n",
    "\n",
    "        else:\n",
    "            print('The sweeper will come on {} between {} and {}.'.format(dict['weekday'], dict['fromhour'], dict['tohour']))\n",
    "\n",
    "        print(\"-\"*80)\n"
   ]
  },
  {
   "cell_type": "code",
   "execution_count": null,
   "metadata": {},
   "outputs": [],
   "source": []
  },
  {
   "cell_type": "code",
   "execution_count": null,
   "metadata": {},
   "outputs": [],
   "source": []
  }
 ],
 "metadata": {
  "kernelspec": {
   "display_name": "Python 3",
   "language": "python",
   "name": "python3"
  },
  "language_info": {
   "codemirror_mode": {
    "name": "ipython",
    "version": 3
   },
   "file_extension": ".py",
   "mimetype": "text/x-python",
   "name": "python",
   "nbconvert_exporter": "python",
   "pygments_lexer": "ipython3",
   "version": "3.7.1"
  }
 },
 "nbformat": 4,
 "nbformat_minor": 2
}
